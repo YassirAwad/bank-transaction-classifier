{
 "cells": [
  {
   "cell_type": "code",
   "execution_count": 17,
   "id": "f5e822f3",
   "metadata": {},
   "outputs": [],
   "source": [
    "import pandas as pd\n",
    "import matplotlib.pyplot as plt\n",
    "import seaborn as sns\n",
    "\n",
    "# Display settings (optional, but improves readability)\n",
    "pd.set_option('display.max_colwidth', None)\n"
   ]
  },
  {
   "cell_type": "code",
   "execution_count": 67,
   "id": "5f959580",
   "metadata": {},
   "outputs": [
    {
     "name": "stdout",
     "output_type": "stream",
     "text": [
      "Number of transactions : 451\n"
     ]
    },
    {
     "data": {
      "text/html": [
       "<div>\n",
       "<style scoped>\n",
       "    .dataframe tbody tr th:only-of-type {\n",
       "        vertical-align: middle;\n",
       "    }\n",
       "\n",
       "    .dataframe tbody tr th {\n",
       "        vertical-align: top;\n",
       "    }\n",
       "\n",
       "    .dataframe thead th {\n",
       "        text-align: right;\n",
       "    }\n",
       "</style>\n",
       "<table border=\"1\" class=\"dataframe\">\n",
       "  <thead>\n",
       "    <tr style=\"text-align: right;\">\n",
       "      <th></th>\n",
       "      <th>description</th>\n",
       "      <th>amount</th>\n",
       "      <th>label</th>\n",
       "      <th>balance</th>\n",
       "      <th>date</th>\n",
       "    </tr>\n",
       "  </thead>\n",
       "  <tbody>\n",
       "    <tr>\n",
       "      <th>0</th>\n",
       "      <td>Fusion Interest Rebate</td>\n",
       "      <td>22.85</td>\n",
       "      <td>Interest Received</td>\n",
       "      <td>15737.35</td>\n",
       "      <td>2023-10-10 00:00:00</td>\n",
       "    </tr>\n",
       "    <tr>\n",
       "      <th>1</th>\n",
       "      <td>Rtc Express Pmt To Battlezone Party Lance 3 Sep</td>\n",
       "      <td>-650.0</td>\n",
       "      <td>Entertainment</td>\n",
       "      <td>44479.06</td>\n",
       "      <td>2023-08-31 00:00:00</td>\n",
       "    </tr>\n",
       "    <tr>\n",
       "      <th>2</th>\n",
       "      <td>POS PURCHASE (EFFEC ) DJS BILTONG (PTY) LTD NORKE CARD NO.</td>\n",
       "      <td>-90.00</td>\n",
       "      <td>Fast Food &amp; Takeouts</td>\n",
       "      <td>38 624.93</td>\n",
       "      <td>2023-10-27T00:00:00</td>\n",
       "    </tr>\n",
       "    <tr>\n",
       "      <th>3</th>\n",
       "      <td>POS Purchase Engen Mitchell Park  * 07 Oct</td>\n",
       "      <td>-377.17</td>\n",
       "      <td>Fuel</td>\n",
       "      <td>59485.18</td>\n",
       "      <td>2023-10-10 00:00:00</td>\n",
       "    </tr>\n",
       "    <tr>\n",
       "      <th>4</th>\n",
       "      <td>POS Purchase Woolworths Online  * 23 Aug</td>\n",
       "      <td>-1531.85</td>\n",
       "      <td>Groceries</td>\n",
       "      <td>72873.35</td>\n",
       "      <td>2023-08-25 00:00:00</td>\n",
       "    </tr>\n",
       "  </tbody>\n",
       "</table>\n",
       "</div>"
      ],
      "text/plain": [
       "                                                   description    amount  \\\n",
       "0                                       Fusion Interest Rebate     22.85   \n",
       "1              Rtc Express Pmt To Battlezone Party Lance 3 Sep    -650.0   \n",
       "2  POS PURCHASE (EFFEC ) DJS BILTONG (PTY) LTD NORKE CARD NO.     -90.00   \n",
       "3                   POS Purchase Engen Mitchell Park  * 07 Oct   -377.17   \n",
       "4                     POS Purchase Woolworths Online  * 23 Aug  -1531.85   \n",
       "\n",
       "                  label    balance                 date  \n",
       "0     Interest Received   15737.35  2023-10-10 00:00:00  \n",
       "1         Entertainment   44479.06  2023-08-31 00:00:00  \n",
       "2  Fast Food & Takeouts  38 624.93  2023-10-27T00:00:00  \n",
       "3                  Fuel   59485.18  2023-10-10 00:00:00  \n",
       "4             Groceries   72873.35  2023-08-25 00:00:00  "
      ]
     },
     "execution_count": 67,
     "metadata": {},
     "output_type": "execute_result"
    }
   ],
   "source": [
    "df = pd.read_csv(\"../data/transactions.csv\")\n",
    "df_original = pd.read_csv(\"../data/transactions.csv\")\n",
    "\n",
    "print(f\"Number of transactions : {df.shape[0]}\")\n",
    "df.head(5)"
   ]
  },
  {
   "cell_type": "markdown",
   "id": "3ba441f8",
   "metadata": {},
   "source": [
    "### Investigating the `balance` Column\n",
    "\n",
    "At this stage, I wanted to understand the role and reliability of the `balance` column in the dataset.\n",
    "\n",
    "Since each transaction includes an `amount` and a `balance`, I hypothesized that the `balance` might represent a **running total** — the account balance after each transaction.\n",
    "\n",
    "To validate this, I:\n",
    "- Checked the data type of `balance`, and found it was stored as an `object` (i.e., string), which is common in CSV files containing formatted numbers.\n",
    "- Cleaned the `balance` values by removing spaces and commas.\n",
    "- Converted the column to `float` so mathematical operations could be performed.\n",
    "- Calculated the difference between consecutive `balance` entries (`balance_diff`) to simulate how the balance changes over time.\n",
    "- Compared this `balance_diff` to the `amount` column to see if they matched.\n",
    "\n",
    "This investigation helped assess whether `balance` could be used to support or verify the transaction flow logic.\n"
   ]
  },
  {
   "cell_type": "code",
   "execution_count": 57,
   "id": "07a837be",
   "metadata": {},
   "outputs": [
    {
     "data": {
      "text/html": [
       "<div>\n",
       "<style scoped>\n",
       "    .dataframe tbody tr th:only-of-type {\n",
       "        vertical-align: middle;\n",
       "    }\n",
       "\n",
       "    .dataframe tbody tr th {\n",
       "        vertical-align: top;\n",
       "    }\n",
       "\n",
       "    .dataframe thead th {\n",
       "        text-align: right;\n",
       "    }\n",
       "</style>\n",
       "<table border=\"1\" class=\"dataframe\">\n",
       "  <thead>\n",
       "    <tr style=\"text-align: right;\">\n",
       "      <th></th>\n",
       "      <th>description</th>\n",
       "      <th>amount</th>\n",
       "      <th>label</th>\n",
       "      <th>balance</th>\n",
       "      <th>date</th>\n",
       "      <th>balance_diff</th>\n",
       "    </tr>\n",
       "  </thead>\n",
       "  <tbody>\n",
       "    <tr>\n",
       "      <th>149</th>\n",
       "      <td>SMS Notification Fee</td>\n",
       "      <td>-0.80</td>\n",
       "      <td>Bank Charges and Fees</td>\n",
       "      <td>26.72</td>\n",
       "      <td>2021-07-25T00:00:00</td>\n",
       "      <td>NaN</td>\n",
       "    </tr>\n",
       "    <tr>\n",
       "      <th>18</th>\n",
       "      <td>Immediate Payment Fee</td>\n",
       "      <td>-7.50</td>\n",
       "      <td>Bank Charges and Fees</td>\n",
       "      <td>6005.20</td>\n",
       "      <td>2021-07-28T00:00:00</td>\n",
       "      <td>5978.48</td>\n",
       "    </tr>\n",
       "    <tr>\n",
       "      <th>243</th>\n",
       "      <td>Markham Springs (Card )</td>\n",
       "      <td>-600.00</td>\n",
       "      <td>Clothing</td>\n",
       "      <td>3235.70</td>\n",
       "      <td>2021-07-28T00:00:00</td>\n",
       "      <td>-2769.50</td>\n",
       "    </tr>\n",
       "    <tr>\n",
       "      <th>215</th>\n",
       "      <td>SMS Notification Fee</td>\n",
       "      <td>-3.60</td>\n",
       "      <td>Bank Charges and Fees</td>\n",
       "      <td>5293.10</td>\n",
       "      <td>2021-07-28T00:00:00</td>\n",
       "      <td>2057.40</td>\n",
       "    </tr>\n",
       "    <tr>\n",
       "      <th>97</th>\n",
       "      <td>Pizza Hut Springs Mall Springs (Card )</td>\n",
       "      <td>-55.80</td>\n",
       "      <td>Fast Food &amp; Takeouts</td>\n",
       "      <td>3835.70</td>\n",
       "      <td>2021-07-28T00:00:00</td>\n",
       "      <td>-1457.40</td>\n",
       "    </tr>\n",
       "  </tbody>\n",
       "</table>\n",
       "</div>"
      ],
      "text/plain": [
       "                                 description   amount                  label  \\\n",
       "149                    SMS Notification Fee     -0.80  Bank Charges and Fees   \n",
       "18                    Immediate Payment Fee     -7.50  Bank Charges and Fees   \n",
       "243                 Markham Springs (Card )   -600.00               Clothing   \n",
       "215                    SMS Notification Fee     -3.60  Bank Charges and Fees   \n",
       "97   Pizza Hut Springs Mall Springs (Card )    -55.80   Fast Food & Takeouts   \n",
       "\n",
       "     balance                 date  balance_diff  \n",
       "149    26.72  2021-07-25T00:00:00           NaN  \n",
       "18   6005.20  2021-07-28T00:00:00       5978.48  \n",
       "243  3235.70  2021-07-28T00:00:00      -2769.50  \n",
       "215  5293.10  2021-07-28T00:00:00       2057.40  \n",
       "97   3835.70  2021-07-28T00:00:00      -1457.40  "
      ]
     },
     "execution_count": 57,
     "metadata": {},
     "output_type": "execute_result"
    }
   ],
   "source": [
    "df.sort_values(by=\"date\", ascending=True, inplace=True)\n",
    "df.head()"
   ]
  },
  {
   "cell_type": "code",
   "execution_count": 58,
   "id": "d1c09cfc",
   "metadata": {},
   "outputs": [
    {
     "name": "stdout",
     "output_type": "stream",
     "text": [
      "float64\n"
     ]
    }
   ],
   "source": [
    "print(df['balance'].dtype)"
   ]
  },
  {
   "cell_type": "code",
   "execution_count": 59,
   "id": "882d4daa",
   "metadata": {},
   "outputs": [
    {
     "name": "stdout",
     "output_type": "stream",
     "text": [
      "float64\n",
      "149      26.72\n",
      "18     6005.20\n",
      "243    3235.70\n",
      "215    5293.10\n",
      "97     3835.70\n",
      "Name: balance, dtype: float64\n"
     ]
    }
   ],
   "source": [
    "#df['balance'] = df['balance'].str.replace(' ', '').str.replace(',', '') ALready Applied\n",
    "df['balance'] = df['balance'].astype(float)\n",
    "print(df['balance'].dtype)\n",
    "print(df['balance'].head())"
   ]
  },
  {
   "cell_type": "code",
   "execution_count": 60,
   "id": "07fe145e",
   "metadata": {},
   "outputs": [],
   "source": [
    "df['balance_diff'] = df['balance'].diff()"
   ]
  },
  {
   "cell_type": "code",
   "execution_count": 61,
   "id": "faa61b8e",
   "metadata": {},
   "outputs": [
    {
     "data": {
      "text/html": [
       "<div>\n",
       "<style scoped>\n",
       "    .dataframe tbody tr th:only-of-type {\n",
       "        vertical-align: middle;\n",
       "    }\n",
       "\n",
       "    .dataframe tbody tr th {\n",
       "        vertical-align: top;\n",
       "    }\n",
       "\n",
       "    .dataframe thead th {\n",
       "        text-align: right;\n",
       "    }\n",
       "</style>\n",
       "<table border=\"1\" class=\"dataframe\">\n",
       "  <thead>\n",
       "    <tr style=\"text-align: right;\">\n",
       "      <th></th>\n",
       "      <th>amount</th>\n",
       "      <th>balance</th>\n",
       "      <th>balance_diff</th>\n",
       "    </tr>\n",
       "  </thead>\n",
       "  <tbody>\n",
       "    <tr>\n",
       "      <th>149</th>\n",
       "      <td>-0.80</td>\n",
       "      <td>26.72</td>\n",
       "      <td>NaN</td>\n",
       "    </tr>\n",
       "    <tr>\n",
       "      <th>18</th>\n",
       "      <td>-7.50</td>\n",
       "      <td>6005.20</td>\n",
       "      <td>5978.48</td>\n",
       "    </tr>\n",
       "    <tr>\n",
       "      <th>243</th>\n",
       "      <td>-600.00</td>\n",
       "      <td>3235.70</td>\n",
       "      <td>-2769.50</td>\n",
       "    </tr>\n",
       "    <tr>\n",
       "      <th>215</th>\n",
       "      <td>-3.60</td>\n",
       "      <td>5293.10</td>\n",
       "      <td>2057.40</td>\n",
       "    </tr>\n",
       "    <tr>\n",
       "      <th>97</th>\n",
       "      <td>-55.80</td>\n",
       "      <td>3835.70</td>\n",
       "      <td>-1457.40</td>\n",
       "    </tr>\n",
       "    <tr>\n",
       "      <th>189</th>\n",
       "      <td>-450.00</td>\n",
       "      <td>5555.20</td>\n",
       "      <td>1719.50</td>\n",
       "    </tr>\n",
       "    <tr>\n",
       "      <th>188</th>\n",
       "      <td>-0.40</td>\n",
       "      <td>4699.00</td>\n",
       "      <td>-856.20</td>\n",
       "    </tr>\n",
       "    <tr>\n",
       "      <th>279</th>\n",
       "      <td>-1.20</td>\n",
       "      <td>1630.43</td>\n",
       "      <td>-3068.57</td>\n",
       "    </tr>\n",
       "    <tr>\n",
       "      <th>361</th>\n",
       "      <td>-3.50</td>\n",
       "      <td>931.68</td>\n",
       "      <td>-698.75</td>\n",
       "    </tr>\n",
       "    <tr>\n",
       "      <th>63</th>\n",
       "      <td>-2 300.52</td>\n",
       "      <td>935.18</td>\n",
       "      <td>3.50</td>\n",
       "    </tr>\n",
       "  </tbody>\n",
       "</table>\n",
       "</div>"
      ],
      "text/plain": [
       "        amount  balance  balance_diff\n",
       "149      -0.80    26.72           NaN\n",
       "18       -7.50  6005.20       5978.48\n",
       "243    -600.00  3235.70      -2769.50\n",
       "215      -3.60  5293.10       2057.40\n",
       "97      -55.80  3835.70      -1457.40\n",
       "189    -450.00  5555.20       1719.50\n",
       "188      -0.40  4699.00       -856.20\n",
       "279      -1.20  1630.43      -3068.57\n",
       "361      -3.50   931.68       -698.75\n",
       "63   -2 300.52   935.18          3.50"
      ]
     },
     "execution_count": 61,
     "metadata": {},
     "output_type": "execute_result"
    }
   ],
   "source": [
    "df[['amount', 'balance', 'balance_diff']].head(10)"
   ]
  },
  {
   "cell_type": "markdown",
   "id": "448f0f91",
   "metadata": {},
   "source": [
    "### Conclusion on the `balance` Column\n",
    "\n",
    "The analysis showed that the differences in `balance` values (`balance_diff`) often did **not** match the `amount` values from the same row. In some cases, the balance increased even when the transaction amount was negative.\n",
    "\n",
    "This suggests that:\n",
    "- The `balance` column does **not** represent a reliable running total of a single account.\n",
    "- The data might include transactions from **multiple accounts**, or the `balance` values could be **anonymized or simulated**.\n",
    "- As a result, the `balance` column is not useful for guiding or validating token-replacement logic in this project.\n",
    "\n",
    "For now, I will **exclude `balance` from preprocessing** and focus on the `description` and `label` columns, which are the core elements of the task.\n"
   ]
  },
  {
   "cell_type": "code",
   "execution_count": 69,
   "id": "37517bd5",
   "metadata": {},
   "outputs": [
    {
     "data": {
      "text/html": [
       "<div>\n",
       "<style scoped>\n",
       "    .dataframe tbody tr th:only-of-type {\n",
       "        vertical-align: middle;\n",
       "    }\n",
       "\n",
       "    .dataframe tbody tr th {\n",
       "        vertical-align: top;\n",
       "    }\n",
       "\n",
       "    .dataframe thead th {\n",
       "        text-align: right;\n",
       "    }\n",
       "</style>\n",
       "<table border=\"1\" class=\"dataframe\">\n",
       "  <thead>\n",
       "    <tr style=\"text-align: right;\">\n",
       "      <th></th>\n",
       "      <th>description</th>\n",
       "      <th>amount</th>\n",
       "      <th>label</th>\n",
       "      <th>balance</th>\n",
       "      <th>date</th>\n",
       "    </tr>\n",
       "  </thead>\n",
       "  <tbody>\n",
       "    <tr>\n",
       "      <th>0</th>\n",
       "      <td>Fusion Interest Rebate</td>\n",
       "      <td>22.85</td>\n",
       "      <td>Interest Received</td>\n",
       "      <td>15737.35</td>\n",
       "      <td>2023-10-10 00:00:00</td>\n",
       "    </tr>\n",
       "    <tr>\n",
       "      <th>1</th>\n",
       "      <td>Rtc Express Pmt To Battlezone Party Lance 3 Sep</td>\n",
       "      <td>-650.0</td>\n",
       "      <td>Entertainment</td>\n",
       "      <td>44479.06</td>\n",
       "      <td>2023-08-31 00:00:00</td>\n",
       "    </tr>\n",
       "    <tr>\n",
       "      <th>2</th>\n",
       "      <td>POS PURCHASE (EFFEC ) DJS BILTONG (PTY) LTD NORKE CARD NO.</td>\n",
       "      <td>-90.00</td>\n",
       "      <td>Fast Food &amp; Takeouts</td>\n",
       "      <td>38 624.93</td>\n",
       "      <td>2023-10-27T00:00:00</td>\n",
       "    </tr>\n",
       "    <tr>\n",
       "      <th>3</th>\n",
       "      <td>POS Purchase Engen Mitchell Park  * 07 Oct</td>\n",
       "      <td>-377.17</td>\n",
       "      <td>Fuel</td>\n",
       "      <td>59485.18</td>\n",
       "      <td>2023-10-10 00:00:00</td>\n",
       "    </tr>\n",
       "    <tr>\n",
       "      <th>4</th>\n",
       "      <td>POS Purchase Woolworths Online  * 23 Aug</td>\n",
       "      <td>-1531.85</td>\n",
       "      <td>Groceries</td>\n",
       "      <td>72873.35</td>\n",
       "      <td>2023-08-25 00:00:00</td>\n",
       "    </tr>\n",
       "    <tr>\n",
       "      <th>5</th>\n",
       "      <td>POS Purchase Engen Nkandla  * 05 Oct</td>\n",
       "      <td>-27.85</td>\n",
       "      <td>General Purchases</td>\n",
       "      <td>74154.54</td>\n",
       "      <td>2023-10-07 00:00:00</td>\n",
       "    </tr>\n",
       "    <tr>\n",
       "      <th>6</th>\n",
       "      <td>SMS Notification Fee Branch:</td>\n",
       "      <td>470010 -0.80</td>\n",
       "      <td>Bank Charges and Fees</td>\n",
       "      <td>84.08</td>\n",
       "      <td>2021-10-03T00:00:00</td>\n",
       "    </tr>\n",
       "    <tr>\n",
       "      <th>7</th>\n",
       "      <td>Banking App Payment</td>\n",
       "      <td>-200.00</td>\n",
       "      <td>Bank Transfer</td>\n",
       "      <td>111.86</td>\n",
       "      <td>2021-09-28T00:00:00</td>\n",
       "    </tr>\n",
       "    <tr>\n",
       "      <th>8</th>\n",
       "      <td>Eft Debit Order Payment (): Cartrack</td>\n",
       "      <td>-199.00</td>\n",
       "      <td>Transport</td>\n",
       "      <td>2 887.60</td>\n",
       "      <td>2021-10-25T00:00:00</td>\n",
       "    </tr>\n",
       "    <tr>\n",
       "      <th>9</th>\n",
       "      <td>Magtape Debit MTN Sp</td>\n",
       "      <td>-1797.99</td>\n",
       "      <td>Cellular Data Purchase</td>\n",
       "      <td>6809.59</td>\n",
       "      <td>2023-08-31 00:00:00</td>\n",
       "    </tr>\n",
       "  </tbody>\n",
       "</table>\n",
       "</div>"
      ],
      "text/plain": [
       "                                                   description        amount  \\\n",
       "0                                       Fusion Interest Rebate         22.85   \n",
       "1              Rtc Express Pmt To Battlezone Party Lance 3 Sep        -650.0   \n",
       "2  POS PURCHASE (EFFEC ) DJS BILTONG (PTY) LTD NORKE CARD NO.         -90.00   \n",
       "3                   POS Purchase Engen Mitchell Park  * 07 Oct       -377.17   \n",
       "4                     POS Purchase Woolworths Online  * 23 Aug      -1531.85   \n",
       "5                         POS Purchase Engen Nkandla  * 05 Oct        -27.85   \n",
       "6                                SMS Notification Fee Branch:   470010 -0.80   \n",
       "7                                         Banking App Payment        -200.00   \n",
       "8                         Eft Debit Order Payment (): Cartrack       -199.00   \n",
       "9                                        Magtape Debit MTN Sp       -1797.99   \n",
       "\n",
       "                    label    balance                 date  \n",
       "0       Interest Received   15737.35  2023-10-10 00:00:00  \n",
       "1           Entertainment   44479.06  2023-08-31 00:00:00  \n",
       "2    Fast Food & Takeouts  38 624.93  2023-10-27T00:00:00  \n",
       "3                    Fuel   59485.18  2023-10-10 00:00:00  \n",
       "4               Groceries   72873.35  2023-08-25 00:00:00  \n",
       "5       General Purchases   74154.54  2023-10-07 00:00:00  \n",
       "6   Bank Charges and Fees      84.08  2021-10-03T00:00:00  \n",
       "7           Bank Transfer     111.86  2021-09-28T00:00:00  \n",
       "8               Transport   2 887.60  2021-10-25T00:00:00  \n",
       "9  Cellular Data Purchase    6809.59  2023-08-31 00:00:00  "
      ]
     },
     "execution_count": 69,
     "metadata": {},
     "output_type": "execute_result"
    }
   ],
   "source": [
    "# df.drop('balance_diff', axis=1, inplace=True) Already Run this line\n",
    "df = df_original\n",
    "df.head(10)\n"
   ]
  },
  {
   "cell_type": "markdown",
   "id": "fc3b8ae6",
   "metadata": {},
   "source": [
    "### Exploring the `label` Column\n",
    "\n",
    "To better understand the target classes for classification, I explored the `label` column. This revealed that:\n",
    "\n"
   ]
  },
  {
   "cell_type": "code",
   "execution_count": null,
   "id": "30844c09",
   "metadata": {},
   "outputs": [
    {
     "name": "stdout",
     "output_type": "stream",
     "text": [
      "Number of Labels: 44\n",
      "label\n",
      "Bank Charges and Fees         68\n",
      "Eating Out                    52\n",
      "Insufficient Funds Fee        45\n",
      "Groceries                     44\n",
      "General Purchases             35\n",
      "Subscriptions                 20\n",
      "Cellular Data Purchase        16\n",
      "Fuel                          11\n",
      "Coffee                        11\n",
      "Transport                      9\n",
      "Bank Transfer                  9\n",
      "Entertainment                  8\n",
      "Savings Transfer               8\n",
      "Home and Garden                8\n",
      "ATM and Cash Withdrawal        7\n",
      "Debit Order                    7\n",
      "Gambling                       7\n",
      "Parking                        7\n",
      "Fast Food & Takeouts           6\n",
      "Investments                    6\n",
      "Clothing                       6\n",
      "Life Insurance                 5\n",
      "Health and Medical             5\n",
      "Tobacco & Smoking              5\n",
      "Interest Received              4\n",
      "Alcohol                        4\n",
      "Personal Care                  4\n",
      "Interest Repayment             4\n",
      "General Insurance              4\n",
      "General Loan Repayment         3\n",
      "Holidays and Travel            3\n",
      "Auto Insurance                 3\n",
      "Refund                         2\n",
      "Returned Debit Order           2\n",
      "Online Purchase                2\n",
      "Restaurants                    2\n",
      "Electronics and Appliances     2\n",
      "Spend Limit Exceeded Fee       1\n",
      "Health Insurance               1\n",
      "Cash Deposit                   1\n",
      "Education                      1\n",
      "Sport                          1\n",
      "Cash Deposit Fee               1\n",
      "Donation                       1\n",
      "Name: count, dtype: int64\n"
     ]
    }
   ],
   "source": [
    "unique_count = df['label'].nunique()\n",
    "value_counts = df['label'].value_counts()\n",
    "\n",
    "print(f\"Number of Labels: {unique_count}\")\n",
    "print(value_counts)\n"
   ]
  },
  {
   "cell_type": "markdown",
   "id": "ed4b9ffa",
   "metadata": {},
   "source": [
    "- There are **44 unique labels** in total.\n",
    "- Some labels are quite frequent, such as:\n",
    "  - `\"Bank Charges and Fees\"` (68 instances)\n",
    "  - `\"Eating Out\"` (52 instances)\n",
    "  - `\"Groceries\"` (44 instances)\n",
    "- Others are extremely rare, with only one or two examples:\n",
    "  - `\"Sport\"`, `\"Donation\"`, `\"Cash Deposit Fee\"`\n",
    "\n",
    "This label imbalance may affect classification performance later. For now, it helps me prioritize which categories to target in the token-replacement logic — starting with the high-frequency ones where patterns are most consistent and impactful.\n"
   ]
  },
  {
   "cell_type": "markdown",
   "id": "1ed123ef",
   "metadata": {},
   "source": [
    "###  Exploring `description` Patterns – Label: Groceries\n",
    "\n",
    "I explored 10 sample descriptions where the label was `Groceries`.\n",
    "\n",
    "\n"
   ]
  },
  {
   "cell_type": "code",
   "execution_count": 75,
   "id": "f16845e6",
   "metadata": {},
   "outputs": [
    {
     "data": {
      "text/plain": [
       "26     POS PURCHASE (EFFEC ) PnP Fam Elgin KEMPT CARD NO. \n",
       "24              POS Purchase PNP Fam Craighall P  * 24 Aug\n",
       "299             POS Purchase PNP Fam Craighall P  * 14 Nov\n",
       "249             POS Purchase Spar Craighall Park  * 27 Oct\n",
       "258    POS PURCHASE (EFFEC ) PnP Fam Elgin KEMPT CARD NO. \n",
       "408             POS Purchase Umhlali Fresh Produ  * 18 Aug\n",
       "221             POS Purchase Checkers Fresh X Ol  * 21 Sep\n",
       "351                      POS Purchase Woolworths  * 15 Oct\n",
       "336    POS PURCHASE (EFFEC ) PnP Fam Elgin KEMPT CARD NO. \n",
       "333               POS Purchase Superspar Harding  * 18 Oct\n",
       "Name: description, dtype: object"
      ]
     },
     "execution_count": 75,
     "metadata": {},
     "output_type": "execute_result"
    }
   ],
   "source": [
    "df[df['label'] == 'Groceries']['description'].sample(10, random_state=1)\n"
   ]
  },
  {
   "cell_type": "markdown",
   "id": "8e390620",
   "metadata": {},
   "source": [
    "Key patterns observed:\n",
    "- All entries began with `\"POS Purchase\"`, suggesting they were point-of-sale transactions.\n",
    "- Common merchant names included `\"PNP\"`, `\"Checkers\"`, `\"Spar\"`, `\"Woolworths\"`, and `\"Superspar\"`, indicating these can be categorized under a `[Grocer]` class token.\n",
    "- Many descriptions ended with a date-like format (e.g. `\"* 14 Nov\"`), which can be replaced with `[Date]`.\n",
    "- Intermediate tokens may represent branch or location names, which could later be abstracted into `[Location]` if reliable rules are defined.\n",
    "\n",
    "These observations will guide the construction of rules for replacing specific tokens in transaction descriptions with semantically meaningful class tokens."
   ]
  },
  {
   "cell_type": "code",
   "execution_count": null,
   "id": "73eb0714",
   "metadata": {},
   "outputs": [
    {
     "data": {
      "text/plain": [
       "266    POS Purchase Fournos Bakery Dunk  * 17 Sep\n",
       "37      POS Purchase Steers Ultra South  * 25 Aug\n",
       "356            POS Purchase Nice On 4th  * 08 Sep\n",
       "267              POS Purchase Uber Eats  * 21 Oct\n",
       "264        POS Purchase KFC Grayston 15  * 12 Oct\n",
       "377    POS Purchase Cato Ridge One Stop  * 17 Sep\n",
       "272    POS Purchase Marble Pantry - Arc  * 07 Sep\n",
       "319    POS Purchase Zapper *Mamma Gs Uc  * 09 Sep\n",
       "375     POS Purchase KFC Castle Gate 46  * 01 Sep\n",
       "165    POS Purchase Marble Pantry - Arc  * 22 Aug\n",
       "Name: description, dtype: object"
      ]
     },
     "execution_count": 76,
     "metadata": {},
     "output_type": "execute_result"
    }
   ],
   "source": [
    "df[df['label'] == 'Eating Out']['description'].sample(10, random_state=1)"
   ]
  },
  {
   "cell_type": "code",
   "execution_count": 78,
   "id": "1ce54670",
   "metadata": {},
   "outputs": [
    {
     "data": {
      "text/plain": [
       "156    Fuel Purchase Engen Big Bird Sout  * 16 Sep\n",
       "174    Fuel Purchase Engen Big Bird 1 St  * 25 Aug\n",
       "210          Fuel Purchase Sasol Melmoth  * 02 Oct\n",
       "434      Fuel Purchase Sasol Maathula  S  * 03 Oct\n",
       "109    Fuel Purchase Shell Parkhurst Cor  * 16 Nov\n",
       "329    Fuel Purchase Shell Parkhurst Cor  * 19 Nov\n",
       "3       POS Purchase Engen Mitchell Park  * 07 Oct\n",
       "348     POS Purchase Shell Parkhurst Cor  * 30 Oct\n",
       "445    Fuel Purchase Cj Motors(Engen Ser  * 19 Sep\n",
       "431    Fuel Purchase Shell Parkhurst Cor  * 27 Aug\n",
       "Name: description, dtype: object"
      ]
     },
     "execution_count": 78,
     "metadata": {},
     "output_type": "execute_result"
    }
   ],
   "source": [
    "df[df['label'] == 'Fuel']['description'].sample(10, random_state=1)"
   ]
  },
  {
   "cell_type": "markdown",
   "id": "4e7af480",
   "metadata": {},
   "source": [
    "After examining sample descriptions for `Eating Out` and `Fuel`, several structural patterns emerged:\n",
    "\n",
    "#### 🍔 Eating Out:\n",
    "- Consistently begins with `\"POS Purchase\"`\n",
    "- Contains clear food-related vendor names such as `\"KFC\"`, `\"Uber Eats\"`, `\"Steers\"`\n",
    "- Includes location/branch names and often ends with a date\n",
    "- Can be generalized to:  \n",
    "  `POS Purchase [Restaurant] [Location] [Date]`\n",
    "\n",
    "#### ⛽ Fuel:\n",
    "- Begins with `\"Fuel Purchase\"` or `\"POS Purchase\"`\n",
    "- Contains fuel station names like `\"Engen\"`, `\"Shell\"`, `\"Sasol\"`\n",
    "- Includes branch/location info and ends with a date\n",
    "- Can be generalized to:  \n",
    "  `Fuel Purchase [FuelBrand] [Location] [Date]`\n",
    "\n",
    "These insights help define specific replacement rules for class tokens like `[Restaurant]`, `[FuelBrand]`, `[Location]`, and `[Date]`."
   ]
  },
  {
   "cell_type": "code",
   "execution_count": null,
   "id": "058b0546",
   "metadata": {},
   "outputs": [],
   "source": []
  }
 ],
 "metadata": {
  "kernelspec": {
   "display_name": "Python 3",
   "language": "python",
   "name": "python3"
  },
  "language_info": {
   "codemirror_mode": {
    "name": "ipython",
    "version": 3
   },
   "file_extension": ".py",
   "mimetype": "text/x-python",
   "name": "python",
   "nbconvert_exporter": "python",
   "pygments_lexer": "ipython3",
   "version": "3.13.0"
  }
 },
 "nbformat": 4,
 "nbformat_minor": 5
}
